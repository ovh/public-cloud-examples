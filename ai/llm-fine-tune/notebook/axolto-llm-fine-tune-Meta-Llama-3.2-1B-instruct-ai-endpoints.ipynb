{
 "cells": [
  {
   "cell_type": "markdown",
   "id": "d3a8cad4-6243-42a2-98de-34da6904c941",
   "metadata": {},
   "source": [
    "Llama 3.2 1B instruct fine tuning with AI Endpoints documentation.  \n",
    "Use the parameter file `instruct-lora-1b-ai-endpoints`"
   ]
  },
  {
   "cell_type": "markdown",
   "id": "abd81fa4-9938-43cd-8ab5-5db2726aea03",
   "metadata": {},
   "source": [
    "## 🧰 Install the tools and dependencies 🧰 \n",
    "\n",
    "  1. Install some dependencies for Axolotl\n",
    "  1. Install Axolotl, see https://docs.axolotl.ai/docs/installation.html"
   ]
  },
  {
   "cell_type": "code",
   "execution_count": null,
   "id": "922c2adc-41f8-49ce-8e64-37b194ac13b5",
   "metadata": {
    "scrolled": true
   },
   "outputs": [],
   "source": [
    "# Axolotl need these dependencies\n",
    "\n",
    "!pip install torch==2.6.0 torchvision==0.21.0 torchaudio==2.6.0 --index-url https://download.pytorch.org/whl/cu126"
   ]
  },
  {
   "cell_type": "code",
   "execution_count": null,
   "id": "a51cd71b-fc25-40cd-a283-f18af2bb6e63",
   "metadata": {
    "scrolled": true
   },
   "outputs": [],
   "source": [
    "# Axolotl CLI installation\n",
    "\n",
    "!pip install --no-build-isolation axolotl[flash-attn,deepspeed]"
   ]
  },
  {
   "cell_type": "code",
   "execution_count": null,
   "id": "6efe2601-5654-4190-a61d-76b9d0834c4b",
   "metadata": {},
   "outputs": [],
   "source": [
    "# Verify Axolotl version and installation\n",
    "!axolotl --version"
   ]
  },
  {
   "cell_type": "code",
   "execution_count": null,
   "id": "cbe61d4b-8e35-477c-97f2-0199a9f36063",
   "metadata": {
    "scrolled": true
   },
   "outputs": [],
   "source": [
    "# Optional step, download pre-configured configuration files\n",
    "!axolotl fetch examples"
   ]
  },
  {
   "cell_type": "markdown",
   "id": "715ad725-ad6d-4d64-9b72-27560eb71ca0",
   "metadata": {},
   "source": [
    "## 🤗 Hugging Face tools and dependencies 🤗"
   ]
  },
  {
   "cell_type": "code",
   "execution_count": null,
   "id": "1459ab52-3dea-4982-94f6-78c3a442c6ef",
   "metadata": {},
   "outputs": [],
   "source": [
    "!pip install -U \"huggingface_hub[cli]\""
   ]
  },
  {
   "cell_type": "code",
   "execution_count": null,
   "id": "b828860f-ab91-46a1-bd3a-3b3d48a7684a",
   "metadata": {},
   "outputs": [],
   "source": [
    "!huggingface-cli --version"
   ]
  },
  {
   "cell_type": "code",
   "execution_count": null,
   "id": "e3464f14-c837-452b-bc51-9f2b4ac2236a",
   "metadata": {},
   "outputs": [],
   "source": [
    "import os\n",
    "from huggingface_hub import login\n",
    "\n",
    "login(os.getenv(\"HF_TOKEN\"))"
   ]
  },
  {
   "cell_type": "markdown",
   "id": "2d34eef3-c5f6-4468-a3ab-e82bdb50280d",
   "metadata": {},
   "source": [
    "## 📉 Use Weight and Biases to follow the training quality 📉"
   ]
  },
  {
   "cell_type": "code",
   "execution_count": null,
   "id": "136b63ae-3815-420c-b412-448e6ce15049",
   "metadata": {},
   "outputs": [],
   "source": [
    "pip install wandb"
   ]
  },
  {
   "cell_type": "code",
   "execution_count": null,
   "id": "e7ab64f8-1b17-404b-876c-56324ab88f15",
   "metadata": {},
   "outputs": [],
   "source": [
    "!wandb login $WANDB_TOKEN"
   ]
  },
  {
   "cell_type": "markdown",
   "id": "85495dfc-a5d3-4fc8-9733-df1e62946cdf",
   "metadata": {},
   "source": [
    "## 🗂️ Test the validity of the dataset and transform data to be used during the training 🗂️"
   ]
  },
  {
   "cell_type": "code",
   "execution_count": null,
   "id": "fb11bb7f-1c5d-4747-bc1b-84c8397cee3b",
   "metadata": {
    "scrolled": true
   },
   "outputs": [],
   "source": [
    "!axolotl preprocess /workspace/public-cloud-examples/ai/llm-fine-tune/notebook/instruct-lora-1b-ai-endpoints.yml"
   ]
  },
  {
   "cell_type": "markdown",
   "id": "48d65b8d-6112-4331-ac54-97867ff8bee8",
   "metadata": {},
   "source": [
    "## 🧑‍🏫 Do the training with new data (AI Endpoints documentation) 🧑‍🏫\n",
    "\n",
    " - ⏱️ : 1h15"
   ]
  },
  {
   "cell_type": "code",
   "execution_count": null,
   "id": "fc126aa6-cbb5-44e3-840b-337982c50658",
   "metadata": {
    "scrolled": true
   },
   "outputs": [],
   "source": [
    "!axolotl train /workspace/public-cloud-examples/ai/llm-fine-tune/notebook/instruct-lora-1b-ai-endpoints.yml #--debug "
   ]
  },
  {
   "cell_type": "markdown",
   "id": "e27e4cf1-e2a1-4813-8070-66039eea49ba",
   "metadata": {},
   "source": [
    "## 🧪 Test the new weights 🧪"
   ]
  },
  {
   "cell_type": "code",
   "execution_count": null,
   "id": "562dc638-df5c-44e9-925b-c2cf2e975a2e",
   "metadata": {
    "scrolled": true
   },
   "outputs": [],
   "source": [
    "!echo \"What is OVHcloud AI Endpoints and how to use it?\" | axolotl inference /workspace/public-cloud-examples/ai/llm-fine-tune/notebook/instruct-lora-1b-ai-endpoints.yml --lora-model-dir=\"/workspace/public-cloud-examples/ai/llm-fine-tune/notebook/out/llama-3.2-1b-ai-endpoints\" "
   ]
  },
  {
   "cell_type": "markdown",
   "id": "431db4a1-5277-4a79-9a85-76cc92efa342",
   "metadata": {},
   "source": [
    "## ✨ Merge weights on the existing model to create a \"new\" one ✨"
   ]
  },
  {
   "cell_type": "code",
   "execution_count": null,
   "id": "e8f3b880-47e0-487a-8001-70c6c18efc06",
   "metadata": {
    "scrolled": true
   },
   "outputs": [],
   "source": [
    "!axolotl merge-lora /workspace/public-cloud-examples/ai/llm-fine-tune/notebook/instruct-lora-1b-ai-endpoints.yml"
   ]
  },
  {
   "cell_type": "markdown",
   "id": "44db71e0-12c9-4e37-a06f-9f49b5b776c3",
   "metadata": {},
   "source": [
    "## ⬆️ Publish the model to the Hugging Face account ⬆️"
   ]
  },
  {
   "cell_type": "code",
   "execution_count": null,
   "id": "4eb36719-86e2-4f3b-b454-cd820b4b308f",
   "metadata": {},
   "outputs": [],
   "source": [
    "%cd /workspace/public-cloud-examples/ai/llm-fine-tune/notebook/out/llama-3.2-1b-ai-endpoints/merged"
   ]
  },
  {
   "cell_type": "code",
   "execution_count": null,
   "id": "d72e3c1a-06b9-49a2-8ea7-512381e2564b",
   "metadata": {
    "scrolled": true
   },
   "outputs": [],
   "source": [
    "!huggingface-cli upload wildagsx/Llama-3.2-1B-Instruct-AI-Endpoints-v0.6 ."
   ]
  },
  {
   "cell_type": "markdown",
   "id": "c331a4cb-fb55-4c59-81d5-875b55d10f0a",
   "metadata": {},
   "source": [
    "## 🗑️ Clean memory after training and merge 🗑️"
   ]
  },
  {
   "cell_type": "code",
   "execution_count": null,
   "id": "045dc0e7-9e12-4d98-b5cf-b0f6352b7a46",
   "metadata": {},
   "outputs": [],
   "source": [
    "import gc\n",
    "import torch\n",
    "\n",
    "print(f\"Allocated memory: {torch.cuda.memory_allocated() / 1024**2:.2f} MB\")\n",
    "print(f\"Cached memory: {torch.cuda.memory_reserved() / 1024**2:.2f} MB\")\n",
    "\n",
    "gc.collect()\n",
    "torch.cuda.empty_cache()\n",
    "\n",
    "print(f\"Allocated memory: {torch.cuda.memory_allocated() / 1024**2:.2f} MB\")\n",
    "print(f\"Cached memory: {torch.cuda.memory_reserved() / 1024**2:.2f} MB\")"
   ]
  }
 ],
 "metadata": {
  "kernelspec": {
   "display_name": "Conda",
   "language": "python",
   "name": "python3"
  },
  "language_info": {
   "codemirror_mode": {
    "name": "ipython",
    "version": 3
   },
   "file_extension": ".py",
   "mimetype": "text/x-python",
   "name": "python",
   "nbconvert_exporter": "python",
   "pygments_lexer": "ipython3",
   "version": "3.11.4"
  }
 },
 "nbformat": 4,
 "nbformat_minor": 5
}
